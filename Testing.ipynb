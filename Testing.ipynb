{
 "cells": [
  {
   "cell_type": "code",
   "execution_count": 1,
   "metadata": {
    "collapsed": false
   },
   "outputs": [],
   "source": [
    "import pickle\n",
    "import numpy as np\n",
    "import pandas as pd\n",
    "\n",
    "import os, sys, random, math, time, socket, struct\n",
    "\n",
    "import scipy.signal\n",
    "\n",
    "bufferpath = \"../../python/signalProc\"\n",
    "sys.path.append(bufferpath)\n",
    "import bufhelp"
   ]
  },
  {
   "cell_type": "code",
   "execution_count": 1,
   "metadata": {
    "collapsed": false
   },
   "outputs": [],
   "source": [
    "from scipy.fftpack import fft\n",
    "\n",
    "def epoch2vector(epoch):\n",
    "    X2 = np.matrix(epoch)\n",
    "    X3 = scipy.signal.detrend(X2)\n",
    "    X4 = np.dot(np.eye(X3.shape[0]) - (1.0 / X3.shape[0]), X3)\n",
    "    X5 = fft(X4[:, 0:9], axis=0)\n",
    "    \n",
    "    # Add amplitudes to the final vector\n",
    "    X6 = np.absolute(X5)\n",
    "    #X7 = np.hstack([X6[8:30], X6[120:140])\n",
    "    X7 = X6\n",
    "    X8 = X7.reshape(-1, 1)\n",
    "    \n",
    "    # Add phases to the final vector\n",
    "    X9 = np.angle(X5)\n",
    "    X10 = X9.reshape(-1, 1)\n",
    "    \n",
    "    # Combine the vectors\n",
    "    X11 = np.vstack([X8, X10]).reshape(-1, 1)\n",
    "    \n",
    "    #return X11\n",
    "    return X8"
   ]
  },
  {
   "cell_type": "code",
   "execution_count": 53,
   "metadata": {
    "collapsed": true
   },
   "outputs": [],
   "source": [
    "from scipy.fftpack import fft\n",
    "\n",
    "def epoch2vector(epoch):\n",
    "    X2 = np.matrix(epoch)\n",
    "    X3 = scipy.signal.detrend(X2)\n",
    "    X4 = np.dot(np.eye(X3.shape[0]) - (1.0 / X3.shape[0]), X3)\n",
    "    X5 = fft(X4[:, np.var(X4, axis=0) > 0], axis=0)\n",
    "    \n",
    "    # Add amplitudes to the final vector\n",
    "    X6 = np.absolute(X5)\n",
    "    X7 = X6[5:35]\n",
    "    #X7 = X6\n",
    "    X8 = X7.reshape(-1, 1)\n",
    "    \n",
    "    return X8\n",
    "    \n",
    "    # Add phases to the final vector\n",
    "    #X9 = np.angle(X5)\n",
    "    #X10 = X9.reshape(-1, 1)\n",
    "    \n",
    "    # Combine the vectors\n",
    "    #X11 = np.vstack([X8, X10]).reshape(-1, 1)\n",
    "    \n",
    "    return X11"
   ]
  },
  {
   "cell_type": "code",
   "execution_count": 54,
   "metadata": {
    "collapsed": false
   },
   "outputs": [],
   "source": [
    "import pickle\n",
    "\n",
    "for participant in ['Merian', 'Monica', 'Nathaly']:\n",
    "    with open('%s.pickle' % participant, 'rb') as file:\n",
    "        data = pickle.load(file)\n",
    "        X = data['data']\n",
    "        data = []\n",
    "        for epoch in X:\n",
    "           v = epoch2vector(epoch)\n",
    "           data.append(np.squeeze(np.asarray(v)))\n",
    "        X = np.asmatrix(data)\n",
    "        with open('%s_data.pickle' % participant, 'wb') as output_file:\n",
    "           pickle.dump(X, output_file)"
   ]
  },
  {
   "cell_type": "code",
   "execution_count": 55,
   "metadata": {
    "collapsed": false
   },
   "outputs": [],
   "source": [
    "X, y = None, None\n",
    "for participant in ['Merian']:#, 'Monica', 'Nathaly']:\n",
    "    with open('%s_labels.pickle' % participant, 'rb') as label_file:\n",
    "        labels = pickle.load(label_file)\n",
    "        y_participant = np.asmatrix(labels['hot'])\n",
    "    with open('%s_data.pickle' % participant, 'rb') as data_file:\n",
    "        X_participant = pickle.load(data_file)\n",
    "    X = X_participant if X is None else np.vstack([X, X_participant])\n",
    "    y = y_participant if y is None else np.vstack([y, y_participant])\n",
    "    \n",
    "with open('combined.pickle', 'wb') as file:\n",
    "    pickle.dump([X, y], file, protocol=2)"
   ]
  },
  {
   "cell_type": "code",
   "execution_count": 56,
   "metadata": {
    "collapsed": false
   },
   "outputs": [
    {
     "name": "stdout",
     "output_type": "stream",
     "text": [
      "(540, 1110) (540, 4)\n"
     ]
    }
   ],
   "source": [
    "with open('combined.pickle', 'rb') as file:\n",
    "    X, y = pickle.load(file)\n",
    "print(X.shape, y.shape)"
   ]
  },
  {
   "cell_type": "code",
   "execution_count": 26,
   "metadata": {
    "collapsed": false
   },
   "outputs": [
    {
     "name": "stdout",
     "output_type": "stream",
     "text": [
      "Converting data...\n",
      "Converting data...\n",
      "Converting data...\n",
      "Loading X and y...\n",
      "Loading X and y...\n",
      "Loading X and y...\n",
      "Creating combined file...\n"
     ]
    }
   ],
   "source": [
    "import pickle\n",
    "import matplotlib.pyplot as plt\n",
    "from scipy.fftpack import fft\n",
    "% matplotlib inline\n",
    "\n",
    "participants = ['Merian', 'Monica', 'Nathaly']\n",
    "\n",
    "def epoch2vector(epoch):\n",
    "    X = np.matrix(epoch)\n",
    "    X = X[:, 0:9]\n",
    "    X = scipy.signal.detrend(X)\n",
    "    X = np.dot(np.eye(X.shape[0]) - (1.0 / X.shape[0]), X)\n",
    "    X_transformed = fft(X, axis=0)\n",
    "    X = np.absolute(X_transformed)\n",
    "    X -= np.mean(X)\n",
    "    X /= np.std(X)\n",
    "    return X\n",
    "\n",
    "for participant in participants:\n",
    "    print('Converting data...')\n",
    "    with open('%s.pickle' % participant, 'rb') as file:\n",
    "        data = pickle.load(file)\n",
    "    result = []\n",
    "    for counter, epoch in enumerate(data['data']):\n",
    "        X = epoch2vector(epoch)\n",
    "        v = X.ravel()\n",
    "        result.append(np.squeeze(np.asarray(v)))\n",
    "    X = np.asmatrix(result)\n",
    "    X -= np.mean(X, axis=0)\n",
    "    X /= np.std(X, axis=0)\n",
    "    with open('%s_data.pickle' % participant, 'wb') as output_file:\n",
    "       pickle.dump(X, output_file)\n",
    "    \n",
    "X = None\n",
    "y = None\n",
    "for participant in participants:\n",
    "    print('Loading X and y...')\n",
    "    with open('%s_labels.pickle' % participant, 'rb') as label_file:\n",
    "        labels = pickle.load(label_file)\n",
    "        y_participant = np.asmatrix(labels['hot'])\n",
    "    with open('%s_data.pickle' % participant, 'rb') as data_file:\n",
    "        X_participant = pickle.load(data_file)\n",
    "    X = X_participant if X is None else np.vstack([X, X_participant])\n",
    "    y = y_participant if y is None else np.vstack([y, y_participant])\n",
    "    \n",
    "with open('combined.pickle', 'wb') as file:\n",
    "    print('Creating combined file...')\n",
    "    pickle.dump([X, y], file, protocol=2)\n",
    "    np.savez([X, y], )\n",
    "    "
   ]
  },
  {
   "cell_type": "code",
   "execution_count": 38,
   "metadata": {
    "collapsed": false
   },
   "outputs": [],
   "source": [
    "from preproc import *\n",
    "\n",
    "X = m\n",
    "\n",
    "# Detrend\n",
    "X = scipy.signal.detrend(X)\n",
    "\n",
    "# CAR filter\n",
    "X = np.dot(np.eye(X.shape[0]) - (1.0/X.shape[0]), X)"
   ]
  },
  {
   "cell_type": "code",
   "execution_count": 62,
   "metadata": {
    "collapsed": false
   },
   "outputs": [
    {
     "name": "stdout",
     "output_type": "stream",
     "text": [
      "(180, 1)\n"
     ]
    }
   ],
   "source": [
    "from scipy.fftpack import fft\n",
    "\n",
    "data = fft(X[:, 0:9], axis=0)\n",
    "data = np.absolute(data)\n",
    "data = data[8:28]\n",
    "A = data.reshape(-1, 1)\n",
    "print(A.shape)\n",
    "#print(amplitudes.shape)\n",
    "#plt.plot(np.real(r))\n",
    "#plt.plot(np.absolute(data))"
   ]
  },
  {
   "cell_type": "code",
   "execution_count": null,
   "metadata": {
    "collapsed": true
   },
   "outputs": [],
   "source": []
  }
 ],
 "metadata": {
  "anaconda-cloud": {},
  "kernelspec": {
   "display_name": "Python [Root]",
   "language": "python",
   "name": "Python [Root]"
  },
  "language_info": {
   "codemirror_mode": {
    "name": "ipython",
    "version": 3
   },
   "file_extension": ".py",
   "mimetype": "text/x-python",
   "name": "python",
   "nbconvert_exporter": "python",
   "pygments_lexer": "ipython3",
   "version": "3.5.2"
  }
 },
 "nbformat": 4,
 "nbformat_minor": 0
}
